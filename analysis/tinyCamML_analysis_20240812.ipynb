{
 "cells": [
  {
   "cell_type": "markdown",
   "id": "c35c536d-c471-406c-9245-b4c4802ad829",
   "metadata": {},
   "source": [
    "# Preliminary Analysis/Parsing of TinyCamML Data"
   ]
  },
  {
   "cell_type": "markdown",
   "id": "a458908b-61cd-4d20-9872-6be7b9c03493",
   "metadata": {},
   "source": [
    "- Use full datalog available at https://docs.google.com/spreadsheets/d/1agveU5gW_giNmrqMYxw6tQje4F06gWyRcA8KjpXUVI0/edit?gid=0#gid=0. \n",
    "- Save as .csv then open in text editor (VS code). \n",
    "- In VS Code, remove quotation marks by finding and replacing with nothing. \n",
    "- In VS Code, Remove � symbol by finding and replacing with nothing. "
   ]
  },
  {
   "cell_type": "code",
   "execution_count": 2,
   "id": "8ac8ac92-fecb-4005-9c89-e60b18df3022",
   "metadata": {
    "tags": []
   },
   "outputs": [],
   "source": [
    "import pandas as pd\n",
    "import numpy as np\n",
    "\n",
    "import matplotlib.pyplot as plt\n",
    "import matplotlib.ticker as ticker\n",
    "from matplotlib.dates import DateFormatter\n",
    "\n",
    "import datetime\n",
    "import os"
   ]
  },
  {
   "cell_type": "code",
   "execution_count": 3,
   "id": "edc75a07-dd9c-4a0b-8730-e23ceaad6fac",
   "metadata": {
    "tags": []
   },
   "outputs": [
    {
     "data": {
      "text/html": [
       "<div>\n",
       "<style scoped>\n",
       "    .dataframe tbody tr th:only-of-type {\n",
       "        vertical-align: middle;\n",
       "    }\n",
       "\n",
       "    .dataframe tbody tr th {\n",
       "        vertical-align: top;\n",
       "    }\n",
       "\n",
       "    .dataframe thead th {\n",
       "        text-align: right;\n",
       "    }\n",
       "</style>\n",
       "<table border=\"1\" class=\"dataframe\">\n",
       "  <thead>\n",
       "    <tr style=\"text-align: right;\">\n",
       "      <th></th>\n",
       "      <th>Device_ID</th>\n",
       "      <th>Datetime Transmission</th>\n",
       "      <th>Sensor</th>\n",
       "      <th>Event</th>\n",
       "      <th>Unix Time</th>\n",
       "      <th>Flood Status</th>\n",
       "      <th>Battery (V)</th>\n",
       "    </tr>\n",
       "  </thead>\n",
       "  <tbody>\n",
       "    <tr>\n",
       "      <th>0</th>\n",
       "      <td>e00fce6861054efa74ac220c</td>\n",
       "      <td>2024-07-26 14:52:01</td>\n",
       "      <td>TinyCamML_1</td>\n",
       "      <td>FloodorNo</td>\n",
       "      <td>946684800</td>\n",
       "      <td>NaN</td>\n",
       "      <td>4.32</td>\n",
       "    </tr>\n",
       "    <tr>\n",
       "      <th>1</th>\n",
       "      <td>e00fce6861054efa74ac220c</td>\n",
       "      <td>2024-07-26 15:02:40</td>\n",
       "      <td>TinyCamML_1</td>\n",
       "      <td>FloodorNo</td>\n",
       "      <td>946684806</td>\n",
       "      <td>Flood</td>\n",
       "      <td>4.28</td>\n",
       "    </tr>\n",
       "    <tr>\n",
       "      <th>2</th>\n",
       "      <td>e00fce6861054efa74ac220c</td>\n",
       "      <td>2024-07-26 15:04:08</td>\n",
       "      <td>TinyCamML_1</td>\n",
       "      <td>FloodorNo</td>\n",
       "      <td>946684806</td>\n",
       "      <td>Flood</td>\n",
       "      <td>4.29</td>\n",
       "    </tr>\n",
       "    <tr>\n",
       "      <th>3</th>\n",
       "      <td>e00fce6861054efa74ac220c</td>\n",
       "      <td>2024-07-26 15:09:43</td>\n",
       "      <td>TinyCamML_1</td>\n",
       "      <td>FloodorNo</td>\n",
       "      <td>946684806</td>\n",
       "      <td>Flood</td>\n",
       "      <td>4.30</td>\n",
       "    </tr>\n",
       "    <tr>\n",
       "      <th>4</th>\n",
       "      <td>e00fce6861054efa74ac220c</td>\n",
       "      <td>2024-07-26 15:12:05</td>\n",
       "      <td>TinyCamML_1</td>\n",
       "      <td>FloodorNo</td>\n",
       "      <td>1722021120</td>\n",
       "      <td>Flood</td>\n",
       "      <td>4.31</td>\n",
       "    </tr>\n",
       "  </tbody>\n",
       "</table>\n",
       "</div>"
      ],
      "text/plain": [
       "                  Device_ID Datetime Transmission       Sensor      Event  \\\n",
       "0  e00fce6861054efa74ac220c   2024-07-26 14:52:01  TinyCamML_1  FloodorNo   \n",
       "1  e00fce6861054efa74ac220c   2024-07-26 15:02:40  TinyCamML_1  FloodorNo   \n",
       "2  e00fce6861054efa74ac220c   2024-07-26 15:04:08  TinyCamML_1  FloodorNo   \n",
       "3  e00fce6861054efa74ac220c   2024-07-26 15:09:43  TinyCamML_1  FloodorNo   \n",
       "4  e00fce6861054efa74ac220c   2024-07-26 15:12:05  TinyCamML_1  FloodorNo   \n",
       "\n",
       "    Unix Time Flood Status  Battery (V)  \n",
       "0   946684800          NaN         4.32  \n",
       "1   946684806        Flood         4.28  \n",
       "2   946684806        Flood         4.29  \n",
       "3   946684806        Flood         4.30  \n",
       "4  1722021120        Flood         4.31  "
      ]
     },
     "execution_count": 3,
     "metadata": {},
     "output_type": "execute_result"
    }
   ],
   "source": [
    "filepath = os.path.join('data', 'TinyCamML - Sheet1 - 20240812.csv')\n",
    "df_full = pd.read_csv(filepath, header = None, parse_dates = [1])\n",
    "df_full.columns = ['Device_ID', 'Datetime Transmission', 'Sensor', 'Event', 'Unix Time', 'Flood Status', 'Battery (V)']\n",
    "df_full.head()"
   ]
  },
  {
   "cell_type": "code",
   "execution_count": 4,
   "id": "d16154e2-17c5-442c-8344-d6da9419a121",
   "metadata": {
    "tags": []
   },
   "outputs": [
    {
     "data": {
      "text/plain": [
       "1804"
      ]
     },
     "execution_count": 4,
     "metadata": {},
     "output_type": "execute_result"
    }
   ],
   "source": [
    "# Size before truncating\n",
    "len(df_full)"
   ]
  },
  {
   "cell_type": "markdown",
   "id": "c3a1a6ce-3e4d-4433-b09f-a7a600b1d824",
   "metadata": {},
   "source": [
    "## Interpret Unix time and get rid of junk dates (i.e., before cell connection)"
   ]
  },
  {
   "cell_type": "code",
   "execution_count": 5,
   "id": "8c6b6708-bd01-45b3-9a11-bac72ebdda61",
   "metadata": {
    "tags": []
   },
   "outputs": [
    {
     "data": {
      "text/html": [
       "<div>\n",
       "<style scoped>\n",
       "    .dataframe tbody tr th:only-of-type {\n",
       "        vertical-align: middle;\n",
       "    }\n",
       "\n",
       "    .dataframe tbody tr th {\n",
       "        vertical-align: top;\n",
       "    }\n",
       "\n",
       "    .dataframe thead th {\n",
       "        text-align: right;\n",
       "    }\n",
       "</style>\n",
       "<table border=\"1\" class=\"dataframe\">\n",
       "  <thead>\n",
       "    <tr style=\"text-align: right;\">\n",
       "      <th></th>\n",
       "      <th>Device_ID</th>\n",
       "      <th>Datetime Transmission</th>\n",
       "      <th>Sensor</th>\n",
       "      <th>Event</th>\n",
       "      <th>Unix Time</th>\n",
       "      <th>Flood Status</th>\n",
       "      <th>Battery (V)</th>\n",
       "      <th>Time (ET)</th>\n",
       "      <th>Water Level (cm)</th>\n",
       "    </tr>\n",
       "  </thead>\n",
       "  <tbody>\n",
       "    <tr>\n",
       "      <th>5</th>\n",
       "      <td>e00fce6861054efa74ac220c</td>\n",
       "      <td>2024-07-26 15:18:12</td>\n",
       "      <td>TinyCamML_1</td>\n",
       "      <td>FloodorNo</td>\n",
       "      <td>1722021486</td>\n",
       "      <td>Flood</td>\n",
       "      <td>4.29</td>\n",
       "      <td>2024-07-26 15:18:06-04:00</td>\n",
       "      <td>0.0</td>\n",
       "    </tr>\n",
       "    <tr>\n",
       "      <th>6</th>\n",
       "      <td>e00fce6861054efa74ac220c</td>\n",
       "      <td>2024-07-26 15:24:12</td>\n",
       "      <td>TinyCamML_1</td>\n",
       "      <td>FloodorNo</td>\n",
       "      <td>1722021846</td>\n",
       "      <td>Flood</td>\n",
       "      <td>4.27</td>\n",
       "      <td>2024-07-26 15:24:06-04:00</td>\n",
       "      <td>0.0</td>\n",
       "    </tr>\n",
       "    <tr>\n",
       "      <th>7</th>\n",
       "      <td>e00fce6861054efa74ac220c</td>\n",
       "      <td>2024-07-26 15:30:12</td>\n",
       "      <td>TinyCamML_1</td>\n",
       "      <td>FloodorNo</td>\n",
       "      <td>1722022207</td>\n",
       "      <td>Flood</td>\n",
       "      <td>4.30</td>\n",
       "      <td>2024-07-26 15:30:07-04:00</td>\n",
       "      <td>0.0</td>\n",
       "    </tr>\n",
       "    <tr>\n",
       "      <th>8</th>\n",
       "      <td>e00fce6861054efa74ac220c</td>\n",
       "      <td>2024-07-26 15:36:12</td>\n",
       "      <td>TinyCamML_1</td>\n",
       "      <td>FloodorNo</td>\n",
       "      <td>1722022567</td>\n",
       "      <td>Flood</td>\n",
       "      <td>4.31</td>\n",
       "      <td>2024-07-26 15:36:07-04:00</td>\n",
       "      <td>0.0</td>\n",
       "    </tr>\n",
       "    <tr>\n",
       "      <th>9</th>\n",
       "      <td>e00fce6861054efa74ac220c</td>\n",
       "      <td>2024-07-26 15:42:12</td>\n",
       "      <td>TinyCamML_1</td>\n",
       "      <td>FloodorNo</td>\n",
       "      <td>1722022926</td>\n",
       "      <td>Flood</td>\n",
       "      <td>4.31</td>\n",
       "      <td>2024-07-26 15:42:06-04:00</td>\n",
       "      <td>0.0</td>\n",
       "    </tr>\n",
       "  </tbody>\n",
       "</table>\n",
       "</div>"
      ],
      "text/plain": [
       "                  Device_ID Datetime Transmission       Sensor      Event  \\\n",
       "5  e00fce6861054efa74ac220c   2024-07-26 15:18:12  TinyCamML_1  FloodorNo   \n",
       "6  e00fce6861054efa74ac220c   2024-07-26 15:24:12  TinyCamML_1  FloodorNo   \n",
       "7  e00fce6861054efa74ac220c   2024-07-26 15:30:12  TinyCamML_1  FloodorNo   \n",
       "8  e00fce6861054efa74ac220c   2024-07-26 15:36:12  TinyCamML_1  FloodorNo   \n",
       "9  e00fce6861054efa74ac220c   2024-07-26 15:42:12  TinyCamML_1  FloodorNo   \n",
       "\n",
       "    Unix Time Flood Status  Battery (V)                 Time (ET)  \\\n",
       "5  1722021486        Flood         4.29 2024-07-26 15:18:06-04:00   \n",
       "6  1722021846        Flood         4.27 2024-07-26 15:24:06-04:00   \n",
       "7  1722022207        Flood         4.30 2024-07-26 15:30:07-04:00   \n",
       "8  1722022567        Flood         4.31 2024-07-26 15:36:07-04:00   \n",
       "9  1722022926        Flood         4.31 2024-07-26 15:42:06-04:00   \n",
       "\n",
       "   Water Level (cm)  \n",
       "5               0.0  \n",
       "6               0.0  \n",
       "7               0.0  \n",
       "8               0.0  \n",
       "9               0.0  "
      ]
     },
     "execution_count": 5,
     "metadata": {},
     "output_type": "execute_result"
    }
   ],
   "source": [
    "# Filter out bad dates (currently using 1722021120 or 7/26/2024)\n",
    "df_full = df_full[df_full['Unix Time']>1722021120]\n",
    "\n",
    "# to round off to nearest second\n",
    "time_utc = pd.to_datetime(df_full.loc[:, 'Unix Time']*1000000000)\n",
    "df_full.loc[:, 'Time (ET)'] = time_utc.dt.tz_localize('utc').dt.tz_convert('US/Eastern')\n",
    "df_full['Water Level (cm)'] = np.zeros(len(df_full))\n",
    "\n",
    "df_full.head()"
   ]
  },
  {
   "cell_type": "code",
   "execution_count": 6,
   "id": "eaadbdab-588b-4225-9399-f8bc66e7b8ec",
   "metadata": {
    "tags": []
   },
   "outputs": [
    {
     "data": {
      "text/plain": [
       "1793"
      ]
     },
     "execution_count": 6,
     "metadata": {},
     "output_type": "execute_result"
    }
   ],
   "source": [
    "# Size after truncating\n",
    "len(df_full)"
   ]
  },
  {
   "cell_type": "code",
   "execution_count": 7,
   "id": "8193f638-c0e8-4911-8ec5-300efcaa9d21",
   "metadata": {
    "tags": []
   },
   "outputs": [
    {
     "data": {
      "image/png": "[encoded data removed]",
      "text/plain": [
       "<Figure size 1000x800 with 1 Axes>"
      ]
     },
     "metadata": {},
     "output_type": "display_data"
    }
   ],
   "source": [
    "fig, axs = plt.subplots(figsize = (10, 8))\n",
    "axs.plot(df_full['Time (ET)'], df_full['Battery (V)'], 'b.')#, label = 'N 23rd St.')\n",
    "\n",
    "axs.set_ylabel('Battery (V)')\n",
    "# axs.legend()\n",
    "\n",
    "# xtick dates are poorly spaced\n",
    "axs.xaxis.set_major_locator(ticker.MultipleLocator(3.5))\n",
    "\n",
    "date_form = DateFormatter(\"%m/%d\")\n",
    "axs.xaxis.set_major_formatter(date_form)\n",
    "\n",
    "fig.autofmt_xdate()"
   ]
  }
 ],
 "metadata": {
  "kernelspec": {
   "display_name": "Python 3 (ipykernel)",
   "language": "python",
   "name": "python3"
  },
  "language_info": {
   "codemirror_mode": {
    "name": "ipython",
    "version": 3
   },
   "file_extension": ".py",
   "mimetype": "text/x-python",
   "name": "python",
   "nbconvert_exporter": "python",
   "pygments_lexer": "ipython3",
   "version": "3.11.7"
  }
 },
 "nbformat": 4,
 "nbformat_minor": 5
}
